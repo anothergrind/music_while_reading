{
 "cells": [
  {
   "cell_type": "code",
   "execution_count": null,
   "id": "94dc4308",
   "metadata": {},
   "outputs": [],
   "source": [
    "import numpy as np\n",
    "import pandas as pd"
   ]
  },
  {
   "cell_type": "code",
   "execution_count": null,
   "id": "23d155ca",
   "metadata": {},
   "outputs": [],
   "source": [
    "import statsmodels.formula.api as smf\n",
    "from statsmodels.formula.api import ols\n",
    "import matplotlib.pyplot as plt\n",
    "import seaborn as sns"
   ]
  },
  {
   "cell_type": "code",
   "execution_count": null,
   "id": "8a2c614d",
   "metadata": {},
   "outputs": [],
   "source": [
    "# A/B Test 1"
   ]
  },
  {
   "cell_type": "code",
   "execution_count": null,
   "id": "785529d1",
   "metadata": {},
   "outputs": [],
   "source": [
    "# A/B Test 2"
   ]
  },
  {
   "cell_type": "code",
   "execution_count": null,
   "id": "5242871a",
   "metadata": {},
   "outputs": [],
   "source": [
    "# Bootstrap"
   ]
  },
  {
   "cell_type": "code",
   "execution_count": null,
   "id": "99a96fad",
   "metadata": {},
   "outputs": [],
   "source": [
    "# Confidence Intervals"
   ]
  },
  {
   "cell_type": "code",
   "execution_count": null,
   "id": "1928c71d",
   "metadata": {},
   "outputs": [],
   "source": [
    "# Correction Analysis"
   ]
  },
  {
   "cell_type": "code",
   "execution_count": null,
   "id": "7da4fab1",
   "metadata": {},
   "outputs": [],
   "source": [
    "# Data Visualizations"
   ]
  }
 ],
 "metadata": {
  "language_info": {
   "name": "python"
  }
 },
 "nbformat": 4,
 "nbformat_minor": 5
}
